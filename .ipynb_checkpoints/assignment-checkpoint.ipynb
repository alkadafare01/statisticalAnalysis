{
 "cells": [
  {
   "cell_type": "code",
   "execution_count": 96,
   "metadata": {},
   "outputs": [],
   "source": [
    "import pandas as pd\n",
    "import numpy as np"
   ]
  },
  {
   "cell_type": "code",
   "execution_count": 87,
   "metadata": {},
   "outputs": [],
   "source": [
    "data1=pd.read_csv(\"data.csv\", delimiter='\\t')"
   ]
  },
  {
   "cell_type": "code",
   "execution_count": 88,
   "metadata": {},
   "outputs": [
    {
     "data": {
      "text/html": [
       "<div>\n",
       "<style scoped>\n",
       "    .dataframe tbody tr th:only-of-type {\n",
       "        vertical-align: middle;\n",
       "    }\n",
       "\n",
       "    .dataframe tbody tr th {\n",
       "        vertical-align: top;\n",
       "    }\n",
       "\n",
       "    .dataframe thead th {\n",
       "        text-align: right;\n",
       "    }\n",
       "</style>\n",
       "<table border=\"1\" class=\"dataframe\">\n",
       "  <thead>\n",
       "    <tr style=\"text-align: right;\">\n",
       "      <th></th>\n",
       "      <th>Year</th>\n",
       "      <th>Sydney price Index</th>\n",
       "      <th>Annual % change</th>\n",
       "      <th>Total number of square meters</th>\n",
       "      <th>Age of house (years)</th>\n",
       "      <th>Market Price ($000)</th>\n",
       "    </tr>\n",
       "  </thead>\n",
       "  <tbody>\n",
       "    <tr>\n",
       "      <th>0</th>\n",
       "      <td>2002�03</td>\n",
       "      <td>78.2</td>\n",
       "      <td>0.0</td>\n",
       "      <td>160.5</td>\n",
       "      <td>35</td>\n",
       "      <td>630</td>\n",
       "    </tr>\n",
       "    <tr>\n",
       "      <th>1</th>\n",
       "      <td>2003�04</td>\n",
       "      <td>87.5</td>\n",
       "      <td>11.9</td>\n",
       "      <td>248.9</td>\n",
       "      <td>45</td>\n",
       "      <td>651</td>\n",
       "    </tr>\n",
       "    <tr>\n",
       "      <th>2</th>\n",
       "      <td>2004�05</td>\n",
       "      <td>84.1</td>\n",
       "      <td>3.9</td>\n",
       "      <td>155.3</td>\n",
       "      <td>20</td>\n",
       "      <td>699</td>\n",
       "    </tr>\n",
       "    <tr>\n",
       "      <th>3</th>\n",
       "      <td>2005�06</td>\n",
       "      <td>81.6</td>\n",
       "      <td>3.0</td>\n",
       "      <td>240.4</td>\n",
       "      <td>32</td>\n",
       "      <td>768</td>\n",
       "    </tr>\n",
       "    <tr>\n",
       "      <th>4</th>\n",
       "      <td>2006�07</td>\n",
       "      <td>83.6</td>\n",
       "      <td>2.5</td>\n",
       "      <td>188.4</td>\n",
       "      <td>25</td>\n",
       "      <td>739</td>\n",
       "    </tr>\n",
       "  </tbody>\n",
       "</table>\n",
       "</div>"
      ],
      "text/plain": [
       "      Year  Sydney price Index  Annual % change  \\\n",
       "0  2002�03                78.2              0.0   \n",
       "1  2003�04                87.5             11.9   \n",
       "2  2004�05                84.1              3.9   \n",
       "3  2005�06                81.6              3.0   \n",
       "4  2006�07                83.6              2.5   \n",
       "\n",
       "   Total number of square meters  Age of house (years)  Market Price ($000)  \n",
       "0                          160.5                    35                  630  \n",
       "1                          248.9                    45                  651  \n",
       "2                          155.3                    20                  699  \n",
       "3                          240.4                    32                  768  \n",
       "4                          188.4                    25                  739  "
      ]
     },
     "execution_count": 88,
     "metadata": {},
     "output_type": "execute_result"
    }
   ],
   "source": [
    "data1.head(5)"
   ]
  },
  {
   "cell_type": "code",
   "execution_count": 89,
   "metadata": {},
   "outputs": [],
   "source": [
    "import seaborn as sns\n",
    "import matplotlib.pyplot as plt"
   ]
  },
  {
   "cell_type": "code",
   "execution_count": 90,
   "metadata": {},
   "outputs": [],
   "source": [
    "df = pd.DataFrame(data1, index=['Sydney price Index','Annual % change','Total number of square meters','Age of house (years)','Market Price ($000)'])"
   ]
  },
  {
   "cell_type": "code",
   "execution_count": 91,
   "metadata": {},
   "outputs": [
    {
     "data": {
      "image/png": "[encoded data removed]",
      "text/plain": [
       "<Figure size 1440x504 with 6 Axes>"
      ]
     },
     "metadata": {
      "needs_background": "light"
     },
     "output_type": "display_data"
    }
   ],
   "source": [
    "\n",
    "#fig = plt.figure()\n",
    "fig, (ax1, ax2) = plt.subplots(2, 3, figsize=(20, 7), sharey=True)\n",
    "#ax1 = fig.add_subplot(211)\n",
    "ax1 = plt.subplot(2, 3, 1, frameon=True)\n",
    "ax1 = sns.boxplot(y=data1[\"Annual % change\"])\n",
    "plt.subplots_adjust(bottom=0.1)\n",
    "plt.xticks(rotation=25)\n",
    "#plt.show()\n",
    "ax2 = plt.subplot(2, 3, 2, frameon=True)\n",
    "ax2 = sns.boxplot(y=data1[\"Sydney price Index\"])\n",
    "plt.subplots_adjust(bottom=0.1)\n",
    "plt.xticks(rotation=20)\n",
    "#plt.show()\n",
    "ax3 = plt.subplot(2, 3, 3, frameon=True)\n",
    "ax3 = sns.boxplot(y=data1[\"Total number of square meters\"])\n",
    "plt.subplots_adjust(bottom=0.1)\n",
    "plt.xticks(rotation=20)\n",
    "#plt.show()\n",
    "ax4 = plt.subplot(2, 3, 4, frameon=True)\n",
    "ax4 = sns.boxplot(y=data1[\"Age of house (years)\"])\n",
    "plt.subplots_adjust(bottom=0.1)\n",
    "plt.xticks(rotation=20)\n",
    "#plt.show()\n",
    "ax5 = plt.subplot(2, 3,5, frameon=True)\n",
    "ax5 = sns.boxplot(y=data1[\"Market Price ($000)\"])\n",
    "plt.subplots_adjust(bottom=0.1)\n",
    "plt.xticks(rotation=20)\n",
    "\n",
    "plt.savefig('boxplot.png')\n",
    "\n",
    "plt.show()\n"
   ]
  },
  {
   "cell_type": "code",
   "execution_count": 100,
   "metadata": {},
   "outputs": [
    {
     "data": {
      "text/html": [
       "<div>\n",
       "<style scoped>\n",
       "    .dataframe tbody tr th:only-of-type {\n",
       "        vertical-align: middle;\n",
       "    }\n",
       "\n",
       "    .dataframe tbody tr th {\n",
       "        vertical-align: top;\n",
       "    }\n",
       "\n",
       "    .dataframe thead th {\n",
       "        text-align: right;\n",
       "    }\n",
       "</style>\n",
       "<table border=\"1\" class=\"dataframe\">\n",
       "  <thead>\n",
       "    <tr style=\"text-align: right;\">\n",
       "      <th></th>\n",
       "      <th>Sydney price Index</th>\n",
       "      <th>Annual % change</th>\n",
       "      <th>Total number of square meters</th>\n",
       "      <th>Age of house (years)</th>\n",
       "      <th>Market Price ($000)</th>\n",
       "    </tr>\n",
       "  </thead>\n",
       "  <tbody>\n",
       "    <tr>\n",
       "      <th>Sydney price Index</th>\n",
       "      <td>1.000000</td>\n",
       "      <td>0.642560</td>\n",
       "      <td>0.314036</td>\n",
       "      <td>-0.582200</td>\n",
       "      <td>0.803471</td>\n",
       "    </tr>\n",
       "    <tr>\n",
       "      <th>Annual % change</th>\n",
       "      <td>0.642560</td>\n",
       "      <td>1.000000</td>\n",
       "      <td>0.547415</td>\n",
       "      <td>-0.403228</td>\n",
       "      <td>0.405826</td>\n",
       "    </tr>\n",
       "    <tr>\n",
       "      <th>Total number of square meters</th>\n",
       "      <td>0.314036</td>\n",
       "      <td>0.547415</td>\n",
       "      <td>1.000000</td>\n",
       "      <td>-0.015025</td>\n",
       "      <td>0.313250</td>\n",
       "    </tr>\n",
       "    <tr>\n",
       "      <th>Age of house (years)</th>\n",
       "      <td>-0.582200</td>\n",
       "      <td>-0.403228</td>\n",
       "      <td>-0.015025</td>\n",
       "      <td>1.000000</td>\n",
       "      <td>-0.677917</td>\n",
       "    </tr>\n",
       "    <tr>\n",
       "      <th>Market Price ($000)</th>\n",
       "      <td>0.803471</td>\n",
       "      <td>0.405826</td>\n",
       "      <td>0.313250</td>\n",
       "      <td>-0.677917</td>\n",
       "      <td>1.000000</td>\n",
       "    </tr>\n",
       "  </tbody>\n",
       "</table>\n",
       "</div>"
      ],
      "text/plain": [
       "                               Sydney price Index  Annual % change  \\\n",
       "Sydney price Index                       1.000000         0.642560   \n",
       "Annual % change                          0.642560         1.000000   \n",
       "Total number of square meters            0.314036         0.547415   \n",
       "Age of house (years)                    -0.582200        -0.403228   \n",
       "Market Price ($000)                      0.803471         0.405826   \n",
       "\n",
       "                               Total number of square meters  \\\n",
       "Sydney price Index                                  0.314036   \n",
       "Annual % change                                     0.547415   \n",
       "Total number of square meters                       1.000000   \n",
       "Age of house (years)                               -0.015025   \n",
       "Market Price ($000)                                 0.313250   \n",
       "\n",
       "                               Age of house (years)  Market Price ($000)  \n",
       "Sydney price Index                        -0.582200             0.803471  \n",
       "Annual % change                           -0.403228             0.405826  \n",
       "Total number of square meters             -0.015025             0.313250  \n",
       "Age of house (years)                       1.000000            -0.677917  \n",
       "Market Price ($000)                       -0.677917             1.000000  "
      ]
     },
     "execution_count": 100,
     "metadata": {},
     "output_type": "execute_result"
    }
   ],
   "source": [
    "correlation=data1.corr()\n",
    "correlation"
   ]
  },
  {
   "cell_type": "code",
   "execution_count": 101,
   "metadata": {},
   "outputs": [
    {
     "data": {
      "text/plain": [
       "<matplotlib.axes._subplots.AxesSubplot at 0xec766d8>"
      ]
     },
     "execution_count": 101,
     "metadata": {},
     "output_type": "execute_result"
    },
    {
     "data": {
      "image/png": "[encoded data removed]",
      "text/plain": [
       "<Figure size 792x648 with 2 Axes>"
      ]
     },
     "metadata": {
      "needs_background": "light"
     },
     "output_type": "display_data"
    }
   ],
   "source": [
    "mask = np.triu(np.ones_like(correlation, dtype=bool))\n",
    "\n",
    "# Set up the matplotlib figure\n",
    "f, ax = plt.subplots(figsize=(11, 9))\n",
    "\n",
    "# Generate a custom diverging colormap\n",
    "cmap = sns.diverging_palette(230, 20, as_cmap=True)\n",
    "\n",
    "# Draw the heatmap with the mask and correct aspect ratio\n",
    "sns.heatmap(correlation, mask=mask, cmap=cmap, vmax=.9, center=0,\n",
    "            square=True, linewidths=.5, cbar_kws={\"shrink\": .5})"
   ]
  },
  {
   "cell_type": "code",
   "execution_count": 102,
   "metadata": {},
   "outputs": [],
   "source": [
    "from sklearn import linear_model"
   ]
  },
  {
   "cell_type": "code",
   "execution_count": 107,
   "metadata": {},
   "outputs": [],
   "source": [
    "X = data1[['Sydney price Index','Annual % change','Total number of square meters','Age of house (years)']]\n",
    "y = data1['Market Price ($000)']"
   ]
  },
  {
   "cell_type": "code",
   "execution_count": 108,
   "metadata": {},
   "outputs": [
    {
     "data": {
      "text/html": [
       "<div>\n",
       "<style scoped>\n",
       "    .dataframe tbody tr th:only-of-type {\n",
       "        vertical-align: middle;\n",
       "    }\n",
       "\n",
       "    .dataframe tbody tr th {\n",
       "        vertical-align: top;\n",
       "    }\n",
       "\n",
       "    .dataframe thead th {\n",
       "        text-align: right;\n",
       "    }\n",
       "</style>\n",
       "<table border=\"1\" class=\"dataframe\">\n",
       "  <thead>\n",
       "    <tr style=\"text-align: right;\">\n",
       "      <th></th>\n",
       "      <th>Sydney price Index</th>\n",
       "      <th>Annual % change</th>\n",
       "      <th>Total number of square meters</th>\n",
       "      <th>Age of house (years)</th>\n",
       "    </tr>\n",
       "  </thead>\n",
       "  <tbody>\n",
       "    <tr>\n",
       "      <th>0</th>\n",
       "      <td>78.2</td>\n",
       "      <td>0.0</td>\n",
       "      <td>160.5</td>\n",
       "      <td>35</td>\n",
       "    </tr>\n",
       "    <tr>\n",
       "      <th>1</th>\n",
       "      <td>87.5</td>\n",
       "      <td>11.9</td>\n",
       "      <td>248.9</td>\n",
       "      <td>45</td>\n",
       "    </tr>\n",
       "    <tr>\n",
       "      <th>2</th>\n",
       "      <td>84.1</td>\n",
       "      <td>3.9</td>\n",
       "      <td>155.3</td>\n",
       "      <td>20</td>\n",
       "    </tr>\n",
       "    <tr>\n",
       "      <th>3</th>\n",
       "      <td>81.6</td>\n",
       "      <td>3.0</td>\n",
       "      <td>240.4</td>\n",
       "      <td>32</td>\n",
       "    </tr>\n",
       "    <tr>\n",
       "      <th>4</th>\n",
       "      <td>83.6</td>\n",
       "      <td>2.5</td>\n",
       "      <td>188.4</td>\n",
       "      <td>25</td>\n",
       "    </tr>\n",
       "  </tbody>\n",
       "</table>\n",
       "</div>"
      ],
      "text/plain": [
       "   Sydney price Index  Annual % change  Total number of square meters  \\\n",
       "0                78.2              0.0                          160.5   \n",
       "1                87.5             11.9                          248.9   \n",
       "2                84.1              3.9                          155.3   \n",
       "3                81.6              3.0                          240.4   \n",
       "4                83.6              2.5                          188.4   \n",
       "\n",
       "   Age of house (years)  \n",
       "0                    35  \n",
       "1                    45  \n",
       "2                    20  \n",
       "3                    32  \n",
       "4                    25  "
      ]
     },
     "execution_count": 108,
     "metadata": {},
     "output_type": "execute_result"
    }
   ],
   "source": [
    "X.head(5)"
   ]
  },
  {
   "cell_type": "code",
   "execution_count": 109,
   "metadata": {},
   "outputs": [
    {
     "data": {
      "text/plain": [
       "0    630\n",
       "1    651\n",
       "2    699\n",
       "3    768\n",
       "Name: Market Price ($000), dtype: int64"
      ]
     },
     "execution_count": 109,
     "metadata": {},
     "output_type": "execute_result"
    }
   ],
   "source": [
    "y.head(4)"
   ]
  },
  {
   "cell_type": "code",
   "execution_count": 111,
   "metadata": {},
   "outputs": [],
   "source": [
    "regr = linear_model.LinearRegression()\n",
    "fit1=regr.fit(X, y)"
   ]
  },
  {
   "cell_type": "code",
   "execution_count": 115,
   "metadata": {},
   "outputs": [
    {
     "name": "stdout",
     "output_type": "stream",
     "text": [
      "[ 1.96349389 -5.62220424  0.51914563 -2.48786597]\n",
      "548.9781079899735\n"
     ]
    }
   ],
   "source": [
    "print(fit1.coef_)\n",
    "print(fit1.intercept_)"
   ]
  },
  {
   "cell_type": "code",
   "execution_count": 117,
   "metadata": {},
   "outputs": [],
   "source": [
    "fit1predict=fit1.predict([[80, 10,300,2]])"
   ]
  },
  {
   "cell_type": "code",
   "execution_count": 118,
   "metadata": {},
   "outputs": [
    {
     "data": {
      "text/plain": [
       "array([800.60353381])"
      ]
     },
     "execution_count": 118,
     "metadata": {},
     "output_type": "execute_result"
    }
   ],
   "source": [
    "fit1predict"
   ]
  },
  {
   "cell_type": "code",
   "execution_count": 119,
   "metadata": {},
   "outputs": [
    {
     "name": "stderr",
     "output_type": "stream",
     "text": [
      "D:\\a\\cc\\ana\\lib\\site-packages\\numpy\\core\\fromnumeric.py:2389: FutureWarning: Method .ptp is deprecated and will be removed in a future version. Use numpy.ptp instead.\n",
      "  return ptp(axis=axis, out=out, **kwargs)\n"
     ]
    },
    {
     "name": "stdout",
     "output_type": "stream",
     "text": [
      "                             OLS Regression Results                            \n",
      "===============================================================================\n",
      "Dep. Variable:     Market Price ($000)   R-squared:                       0.791\n",
      "Model:                             OLS   Adj. R-squared:                  0.707\n",
      "Method:                  Least Squares   F-statistic:                     9.440\n",
      "Date:                 Fri, 06 Nov 2020   Prob (F-statistic):            0.00199\n",
      "Time:                         20:04:00   Log-Likelihood:                -74.968\n",
      "No. Observations:                   15   AIC:                             159.9\n",
      "Df Residuals:                       10   BIC:                             163.5\n",
      "Df Model:                            4                                         \n",
      "Covariance Type:             nonrobust                                         \n",
      "=================================================================================================\n",
      "                                    coef    std err          t      P>|t|      [0.025      0.975]\n",
      "-------------------------------------------------------------------------------------------------\n",
      "const                           548.9781     81.132      6.767      0.000     368.206     729.750\n",
      "Sydney price Index                1.9635      0.583      3.367      0.007       0.664       3.263\n",
      "Annual % change                  -5.6222      3.240     -1.735      0.113     -12.842       1.597\n",
      "Total number of square meters     0.5191      0.324      1.603      0.140      -0.203       1.241\n",
      "Age of house (years)             -2.4879      1.130     -2.202      0.052      -5.005       0.029\n",
      "==============================================================================\n",
      "Omnibus:                        0.870   Durbin-Watson:                   1.791\n",
      "Prob(Omnibus):                  0.647   Jarque-Bera (JB):                0.680\n",
      "Skew:                          -0.101   Prob(JB):                        0.712\n",
      "Kurtosis:                       1.976   Cond. No.                     1.71e+03\n",
      "==============================================================================\n",
      "\n",
      "Warnings:\n",
      "[1] Standard Errors assume that the covariance matrix of the errors is correctly specified.\n",
      "[2] The condition number is large, 1.71e+03. This might indicate that there are\n",
      "strong multicollinearity or other numerical problems.\n"
     ]
    },
    {
     "name": "stderr",
     "output_type": "stream",
     "text": [
      "D:\\a\\cc\\ana\\lib\\site-packages\\scipy\\stats\\stats.py:1416: UserWarning: kurtosistest only valid for n>=20 ... continuing anyway, n=15\n",
      "  \"anyway, n=%i\" % int(n))\n"
     ]
    }
   ],
   "source": [
    "import statsmodels.api as sm\n",
    "\n",
    "X = sm.add_constant(X) # adding a constant\n",
    " \n",
    "model = sm.OLS(y, X).fit()\n",
    "predictions = model.predict(X) \n",
    " \n",
    "print_model = model.summary()\n",
    "print(print_model)"
   ]
  },
  {
   "cell_type": "code",
   "execution_count": null,
   "metadata": {},
   "outputs": [],
   "source": []
  }
 ],
 "metadata": {
  "kernelspec": {
   "display_name": "Python 2",
   "language": "python",
   "name": "python2"
  },
  "language_info": {
   "codemirror_mode": {
    "name": "ipython",
    "version": 2
   },
   "file_extension": ".py",
   "mimetype": "text/x-python",
   "name": "python",
   "nbconvert_exporter": "python",
   "pygments_lexer": "ipython2",
   "version": "2.7.16"
  }
 },
 "nbformat": 4,
 "nbformat_minor": 2
}
