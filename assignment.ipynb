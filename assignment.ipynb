{
 "cells": [
  {
   "cell_type": "code",
   "execution_count": 1,
   "metadata": {},
   "outputs": [],
   "source": [
    "import pandas as pd\n",
    "import numpy as np"
   ]
  },
  {
   "cell_type": "code",
   "execution_count": 2,
   "metadata": {},
   "outputs": [],
   "source": [
    "data1=pd.read_csv(\"data.csv\", delimiter='\\t')"
   ]
  },
  {
   "cell_type": "code",
   "execution_count": 3,
   "metadata": {},
   "outputs": [
    {
     "data": {
      "text/html": [
       "<div>\n",
       "<style scoped>\n",
       "    .dataframe tbody tr th:only-of-type {\n",
       "        vertical-align: middle;\n",
       "    }\n",
       "\n",
       "    .dataframe tbody tr th {\n",
       "        vertical-align: top;\n",
       "    }\n",
       "\n",
       "    .dataframe thead th {\n",
       "        text-align: right;\n",
       "    }\n",
       "</style>\n",
       "<table border=\"1\" class=\"dataframe\">\n",
       "  <thead>\n",
       "    <tr style=\"text-align: right;\">\n",
       "      <th></th>\n",
       "      <th>Year</th>\n",
       "      <th>Sydney price Index</th>\n",
       "      <th>Annual % change</th>\n",
       "      <th>Total number of square meters</th>\n",
       "      <th>Age of house (years)</th>\n",
       "      <th>Market Price ($000)</th>\n",
       "    </tr>\n",
       "  </thead>\n",
       "  <tbody>\n",
       "    <tr>\n",
       "      <th>0</th>\n",
       "      <td>2002�03</td>\n",
       "      <td>78.2</td>\n",
       "      <td>0.0</td>\n",
       "      <td>160.5</td>\n",
       "      <td>35</td>\n",
       "      <td>636.75</td>\n",
       "    </tr>\n",
       "    <tr>\n",
       "      <th>1</th>\n",
       "      <td>2003�04</td>\n",
       "      <td>87.5</td>\n",
       "      <td>11.9</td>\n",
       "      <td>248.9</td>\n",
       "      <td>45</td>\n",
       "      <td>651.00</td>\n",
       "    </tr>\n",
       "    <tr>\n",
       "      <th>2</th>\n",
       "      <td>2004�05</td>\n",
       "      <td>84.1</td>\n",
       "      <td>3.9</td>\n",
       "      <td>155.3</td>\n",
       "      <td>20</td>\n",
       "      <td>699.00</td>\n",
       "    </tr>\n",
       "    <tr>\n",
       "      <th>3</th>\n",
       "      <td>2005�06</td>\n",
       "      <td>81.6</td>\n",
       "      <td>3.0</td>\n",
       "      <td>240.4</td>\n",
       "      <td>32</td>\n",
       "      <td>768.00</td>\n",
       "    </tr>\n",
       "    <tr>\n",
       "      <th>4</th>\n",
       "      <td>2006�07</td>\n",
       "      <td>83.6</td>\n",
       "      <td>2.5</td>\n",
       "      <td>188.4</td>\n",
       "      <td>25</td>\n",
       "      <td>739.00</td>\n",
       "    </tr>\n",
       "  </tbody>\n",
       "</table>\n",
       "</div>"
      ],
      "text/plain": [
       "      Year  Sydney price Index  Annual % change  \\\n",
       "0  2002�03                78.2              0.0   \n",
       "1  2003�04                87.5             11.9   \n",
       "2  2004�05                84.1              3.9   \n",
       "3  2005�06                81.6              3.0   \n",
       "4  2006�07                83.6              2.5   \n",
       "\n",
       "   Total number of square meters  Age of house (years)  Market Price ($000)  \n",
       "0                          160.5                    35               636.75  \n",
       "1                          248.9                    45               651.00  \n",
       "2                          155.3                    20               699.00  \n",
       "3                          240.4                    32               768.00  \n",
       "4                          188.4                    25               739.00  "
      ]
     },
     "execution_count": 3,
     "metadata": {},
     "output_type": "execute_result"
    }
   ],
   "source": [
    "data1.head(5)"
   ]
  },
  {
   "cell_type": "code",
   "execution_count": 4,
   "metadata": {},
   "outputs": [],
   "source": [
    "import seaborn as sns\n",
    "import matplotlib.pyplot as plt"
   ]
  },
  {
   "cell_type": "code",
   "execution_count": 5,
   "metadata": {},
   "outputs": [],
   "source": [
    "df = pd.DataFrame(data1, index=['Sydney price Index','Annual % change','Total number of square meters','Age of house (years)','Market Price ($000)'])"
   ]
  },
  {
   "cell_type": "code",
   "execution_count": 6,
   "metadata": {},
   "outputs": [
    {
     "data": {
      "image/png": "[encoded data removed]",
      "text/plain": [
       "<Figure size 1440x504 with 6 Axes>"
      ]
     },
     "metadata": {
      "needs_background": "light"
     },
     "output_type": "display_data"
    }
   ],
   "source": [
    "\n",
    "#fig = plt.figure()\n",
    "fig, (ax1, ax2) = plt.subplots(2, 3, figsize=(20, 7), sharey=True)\n",
    "#ax1 = fig.add_subplot(211)\n",
    "ax1 = plt.subplot(2, 3, 1, frameon=True)\n",
    "ax1 = sns.boxplot(y=data1[\"Annual % change\"])\n",
    "plt.subplots_adjust(bottom=0.1)\n",
    "plt.xticks(rotation=25)\n",
    "#plt.show()\n",
    "ax2 = plt.subplot(2, 3, 2, frameon=True)\n",
    "ax2 = sns.boxplot(y=data1[\"Sydney price Index\"])\n",
    "plt.subplots_adjust(bottom=0.1)\n",
    "plt.xticks(rotation=20)\n",
    "#plt.show()\n",
    "ax3 = plt.subplot(2, 3, 3, frameon=True)\n",
    "ax3 = sns.boxplot(y=data1[\"Total number of square meters\"])\n",
    "plt.subplots_adjust(bottom=0.1)\n",
    "plt.xticks(rotation=20)\n",
    "#plt.show()\n",
    "ax4 = plt.subplot(2, 3, 4, frameon=True)\n",
    "ax4 = sns.boxplot(y=data1[\"Age of house (years)\"])\n",
    "plt.subplots_adjust(bottom=0.1)\n",
    "plt.xticks(rotation=20)\n",
    "#plt.show()\n",
    "ax5 = plt.subplot(2, 3,5, frameon=True)\n",
    "ax5 = sns.boxplot(y=data1[\"Market Price ($000)\"])\n",
    "plt.subplots_adjust(bottom=0.1)\n",
    "plt.xticks(rotation=20)\n",
    "\n",
    "plt.savefig('boxplot.png')\n",
    "\n",
    "plt.show()\n"
   ]
  },
  {
   "cell_type": "code",
   "execution_count": 7,
   "metadata": {},
   "outputs": [
    {
     "data": {
      "text/html": [
       "<div>\n",
       "<style scoped>\n",
       "    .dataframe tbody tr th:only-of-type {\n",
       "        vertical-align: middle;\n",
       "    }\n",
       "\n",
       "    .dataframe tbody tr th {\n",
       "        vertical-align: top;\n",
       "    }\n",
       "\n",
       "    .dataframe thead th {\n",
       "        text-align: right;\n",
       "    }\n",
       "</style>\n",
       "<table border=\"1\" class=\"dataframe\">\n",
       "  <thead>\n",
       "    <tr style=\"text-align: right;\">\n",
       "      <th></th>\n",
       "      <th>Sydney price Index</th>\n",
       "      <th>Annual % change</th>\n",
       "      <th>Total number of square meters</th>\n",
       "      <th>Age of house (years)</th>\n",
       "      <th>Market Price ($000)</th>\n",
       "    </tr>\n",
       "  </thead>\n",
       "  <tbody>\n",
       "    <tr>\n",
       "      <th>Sydney price Index</th>\n",
       "      <td>1.000000</td>\n",
       "      <td>0.683983</td>\n",
       "      <td>0.323584</td>\n",
       "      <td>-0.581084</td>\n",
       "      <td>0.771055</td>\n",
       "    </tr>\n",
       "    <tr>\n",
       "      <th>Annual % change</th>\n",
       "      <td>0.683983</td>\n",
       "      <td>1.000000</td>\n",
       "      <td>0.547415</td>\n",
       "      <td>-0.403228</td>\n",
       "      <td>0.406251</td>\n",
       "    </tr>\n",
       "    <tr>\n",
       "      <th>Total number of square meters</th>\n",
       "      <td>0.323584</td>\n",
       "      <td>0.547415</td>\n",
       "      <td>1.000000</td>\n",
       "      <td>-0.015025</td>\n",
       "      <td>0.317211</td>\n",
       "    </tr>\n",
       "    <tr>\n",
       "      <th>Age of house (years)</th>\n",
       "      <td>-0.581084</td>\n",
       "      <td>-0.403228</td>\n",
       "      <td>-0.015025</td>\n",
       "      <td>1.000000</td>\n",
       "      <td>-0.682140</td>\n",
       "    </tr>\n",
       "    <tr>\n",
       "      <th>Market Price ($000)</th>\n",
       "      <td>0.771055</td>\n",
       "      <td>0.406251</td>\n",
       "      <td>0.317211</td>\n",
       "      <td>-0.682140</td>\n",
       "      <td>1.000000</td>\n",
       "    </tr>\n",
       "  </tbody>\n",
       "</table>\n",
       "</div>"
      ],
      "text/plain": [
       "                               Sydney price Index  Annual % change  \\\n",
       "Sydney price Index                       1.000000         0.683983   \n",
       "Annual % change                          0.683983         1.000000   \n",
       "Total number of square meters            0.323584         0.547415   \n",
       "Age of house (years)                    -0.581084        -0.403228   \n",
       "Market Price ($000)                      0.771055         0.406251   \n",
       "\n",
       "                               Total number of square meters  \\\n",
       "Sydney price Index                                  0.323584   \n",
       "Annual % change                                     0.547415   \n",
       "Total number of square meters                       1.000000   \n",
       "Age of house (years)                               -0.015025   \n",
       "Market Price ($000)                                 0.317211   \n",
       "\n",
       "                               Age of house (years)  Market Price ($000)  \n",
       "Sydney price Index                        -0.581084             0.771055  \n",
       "Annual % change                           -0.403228             0.406251  \n",
       "Total number of square meters             -0.015025             0.317211  \n",
       "Age of house (years)                       1.000000            -0.682140  \n",
       "Market Price ($000)                       -0.682140             1.000000  "
      ]
     },
     "execution_count": 7,
     "metadata": {},
     "output_type": "execute_result"
    }
   ],
   "source": [
    "correlation=data1.corr()\n",
    "correlation"
   ]
  },
  {
   "cell_type": "code",
   "execution_count": 8,
   "metadata": {},
   "outputs": [
    {
     "data": {
      "text/plain": [
       "<matplotlib.axes._subplots.AxesSubplot at 0xbfa14a8>"
      ]
     },
     "execution_count": 8,
     "metadata": {},
     "output_type": "execute_result"
    },
    {
     "data": {
      "image/png": "[encoded data removed]",
      "text/plain": [
       "<Figure size 792x648 with 2 Axes>"
      ]
     },
     "metadata": {
      "needs_background": "light"
     },
     "output_type": "display_data"
    }
   ],
   "source": [
    "mask = np.triu(np.ones_like(correlation, dtype=bool))\n",
    "\n",
    "# Set up the matplotlib figure\n",
    "f, ax = plt.subplots(figsize=(11, 9))\n",
    "\n",
    "# Generate a custom diverging colormap\n",
    "cmap = sns.diverging_palette(230, 20, as_cmap=True)\n",
    "\n",
    "# Draw the heatmap with the mask and correct aspect ratio\n",
    "sns.heatmap(correlation, mask=mask, cmap=cmap, vmax=.9, center=0,\n",
    "            square=True, linewidths=.5, cbar_kws={\"shrink\": .5})"
   ]
  },
  {
   "cell_type": "code",
   "execution_count": 11,
   "metadata": {},
   "outputs": [],
   "source": [
    "from sklearn import linear_model"
   ]
  },
  {
   "cell_type": "code",
   "execution_count": 12,
   "metadata": {},
   "outputs": [],
   "source": [
    "X = data1[['Sydney price Index','Annual % change','Total number of square meters','Age of house (years)']]\n",
    "y = data1['Market Price ($000)']"
   ]
  },
  {
   "cell_type": "code",
   "execution_count": 13,
   "metadata": {},
   "outputs": [
    {
     "data": {
      "text/html": [
       "<div>\n",
       "<style scoped>\n",
       "    .dataframe tbody tr th:only-of-type {\n",
       "        vertical-align: middle;\n",
       "    }\n",
       "\n",
       "    .dataframe tbody tr th {\n",
       "        vertical-align: top;\n",
       "    }\n",
       "\n",
       "    .dataframe thead th {\n",
       "        text-align: right;\n",
       "    }\n",
       "</style>\n",
       "<table border=\"1\" class=\"dataframe\">\n",
       "  <thead>\n",
       "    <tr style=\"text-align: right;\">\n",
       "      <th></th>\n",
       "      <th>Sydney price Index</th>\n",
       "      <th>Annual % change</th>\n",
       "      <th>Total number of square meters</th>\n",
       "      <th>Age of house (years)</th>\n",
       "    </tr>\n",
       "  </thead>\n",
       "  <tbody>\n",
       "    <tr>\n",
       "      <th>0</th>\n",
       "      <td>78.2</td>\n",
       "      <td>0.0</td>\n",
       "      <td>160.5</td>\n",
       "      <td>35</td>\n",
       "    </tr>\n",
       "    <tr>\n",
       "      <th>1</th>\n",
       "      <td>87.5</td>\n",
       "      <td>11.9</td>\n",
       "      <td>248.9</td>\n",
       "      <td>45</td>\n",
       "    </tr>\n",
       "    <tr>\n",
       "      <th>2</th>\n",
       "      <td>84.1</td>\n",
       "      <td>3.9</td>\n",
       "      <td>155.3</td>\n",
       "      <td>20</td>\n",
       "    </tr>\n",
       "    <tr>\n",
       "      <th>3</th>\n",
       "      <td>81.6</td>\n",
       "      <td>3.0</td>\n",
       "      <td>240.4</td>\n",
       "      <td>32</td>\n",
       "    </tr>\n",
       "    <tr>\n",
       "      <th>4</th>\n",
       "      <td>83.6</td>\n",
       "      <td>2.5</td>\n",
       "      <td>188.4</td>\n",
       "      <td>25</td>\n",
       "    </tr>\n",
       "  </tbody>\n",
       "</table>\n",
       "</div>"
      ],
      "text/plain": [
       "   Sydney price Index  Annual % change  Total number of square meters  \\\n",
       "0                78.2              0.0                          160.5   \n",
       "1                87.5             11.9                          248.9   \n",
       "2                84.1              3.9                          155.3   \n",
       "3                81.6              3.0                          240.4   \n",
       "4                83.6              2.5                          188.4   \n",
       "\n",
       "   Age of house (years)  \n",
       "0                    35  \n",
       "1                    45  \n",
       "2                    20  \n",
       "3                    32  \n",
       "4                    25  "
      ]
     },
     "execution_count": 13,
     "metadata": {},
     "output_type": "execute_result"
    }
   ],
   "source": [
    "X.head(5)"
   ]
  },
  {
   "cell_type": "code",
   "execution_count": 14,
   "metadata": {},
   "outputs": [
    {
     "data": {
      "text/plain": [
       "0    636.75\n",
       "1    651.00\n",
       "2    699.00\n",
       "3    768.00\n",
       "Name: Market Price ($000), dtype: float64"
      ]
     },
     "execution_count": 14,
     "metadata": {},
     "output_type": "execute_result"
    }
   ],
   "source": [
    "y.head(4)"
   ]
  },
  {
   "cell_type": "code",
   "execution_count": 15,
   "metadata": {},
   "outputs": [],
   "source": [
    "regr = linear_model.LinearRegression()\n",
    "fit1=regr.fit(X, y)"
   ]
  },
  {
   "cell_type": "code",
   "execution_count": 16,
   "metadata": {},
   "outputs": [
    {
     "name": "stdout",
     "output_type": "stream",
     "text": [
      "[ 2.03286299 -5.8192431   0.5221378  -2.4654693 ]\n",
      "543.4978879343182\n"
     ]
    }
   ],
   "source": [
    "print(fit1.coef_)\n",
    "print(fit1.intercept_)"
   ]
  },
  {
   "cell_type": "code",
   "execution_count": 17,
   "metadata": {},
   "outputs": [],
   "source": [
    "fit1predict=fit1.predict([[80, 10,300,2]])"
   ]
  },
  {
   "cell_type": "code",
   "execution_count": 18,
   "metadata": {},
   "outputs": [
    {
     "data": {
      "text/plain": [
       "array([799.64489685])"
      ]
     },
     "execution_count": 18,
     "metadata": {},
     "output_type": "execute_result"
    }
   ],
   "source": [
    "fit1predict"
   ]
  },
  {
   "cell_type": "code",
   "execution_count": 19,
   "metadata": {
    "scrolled": true
   },
   "outputs": [
    {
     "name": "stderr",
     "output_type": "stream",
     "text": [
      "D:\\a\\cc\\ana\\lib\\site-packages\\numpy\\core\\fromnumeric.py:2389: FutureWarning: Method .ptp is deprecated and will be removed in a future version. Use numpy.ptp instead.\n",
      "  return ptp(axis=axis, out=out, **kwargs)\n"
     ]
    },
    {
     "name": "stdout",
     "output_type": "stream",
     "text": [
      "                             OLS Regression Results                            \n",
      "===============================================================================\n",
      "Dep. Variable:     Market Price ($000)   R-squared:                       0.770\n",
      "Model:                             OLS   Adj. R-squared:                  0.679\n",
      "Method:                  Least Squares   F-statistic:                     8.388\n",
      "Date:                 Sat, 07 Nov 2020   Prob (F-statistic):            0.00310\n",
      "Time:                         13:25:02   Log-Likelihood:                -74.397\n",
      "No. Observations:                   15   AIC:                             158.8\n",
      "Df Residuals:                       10   BIC:                             162.3\n",
      "Df Model:                            4                                         \n",
      "Covariance Type:             nonrobust                                         \n",
      "=================================================================================================\n",
      "                                    coef    std err          t      P>|t|      [0.025      0.975]\n",
      "-------------------------------------------------------------------------------------------------\n",
      "const                           543.4979     85.606      6.349      0.000     352.755     734.240\n",
      "Sydney price Index                2.0329      0.674      3.014      0.013       0.530       3.536\n",
      "Annual % change                  -5.8192      3.250     -1.790      0.104     -13.061       1.423\n",
      "Total number of square meters     0.5221      0.311      1.678      0.124      -0.171       1.216\n",
      "Age of house (years)             -2.4655      1.082     -2.280      0.046      -4.875      -0.056\n",
      "==============================================================================\n",
      "Omnibus:                        1.568   Durbin-Watson:                   1.864\n",
      "Prob(Omnibus):                  0.457   Jarque-Bera (JB):                0.852\n",
      "Skew:                          -0.017   Prob(JB):                        0.653\n",
      "Kurtosis:                       1.833   Cond. No.                     1.87e+03\n",
      "==============================================================================\n",
      "\n",
      "Warnings:\n",
      "[1] Standard Errors assume that the covariance matrix of the errors is correctly specified.\n",
      "[2] The condition number is large, 1.87e+03. This might indicate that there are\n",
      "strong multicollinearity or other numerical problems.\n"
     ]
    },
    {
     "name": "stderr",
     "output_type": "stream",
     "text": [
      "D:\\a\\cc\\ana\\lib\\site-packages\\scipy\\stats\\stats.py:1416: UserWarning: kurtosistest only valid for n>=20 ... continuing anyway, n=15\n",
      "  \"anyway, n=%i\" % int(n))\n"
     ]
    }
   ],
   "source": [
    "import statsmodels.api as sm\n",
    "\n",
    "X = sm.add_constant(X) # adding a constant\n",
    " \n",
    "model = sm.OLS(y, X).fit()\n",
    "predictions = model.predict(X) \n",
    " \n",
    "print_model = model.summary()\n",
    "print(print_model)"
   ]
  },
  {
   "cell_type": "code",
   "execution_count": 22,
   "metadata": {},
   "outputs": [],
   "source": [
    "fit1predict=model.predict([[1,80, 10,300,2]])"
   ]
  },
  {
   "cell_type": "code",
   "execution_count": 23,
   "metadata": {},
   "outputs": [
    {
     "data": {
      "text/plain": [
       "array([799.64489685])"
      ]
     },
     "execution_count": 23,
     "metadata": {},
     "output_type": "execute_result"
    }
   ],
   "source": [
    "fit1predict"
   ]
  },
  {
   "cell_type": "code",
   "execution_count": null,
   "metadata": {},
   "outputs": [],
   "source": []
  }
 ],
 "metadata": {
  "kernelspec": {
   "display_name": "Python 2",
   "language": "python",
   "name": "python2"
  },
  "language_info": {
   "codemirror_mode": {
    "name": "ipython",
    "version": 2
   },
   "file_extension": ".py",
   "mimetype": "text/x-python",
   "name": "python",
   "nbconvert_exporter": "python",
   "pygments_lexer": "ipython2",
   "version": "2.7.16"
  }
 },
 "nbformat": 4,
 "nbformat_minor": 2
}
